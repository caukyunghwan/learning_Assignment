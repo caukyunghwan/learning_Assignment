{
 "cells": [
  {
   "cell_type": "markdown",
   "id": "mobile-johns",
   "metadata": {},
   "source": [
    "# Load Packages"
   ]
  },
  {
   "cell_type": "code",
   "execution_count": null,
   "id": "cosmetic-bolivia",
   "metadata": {},
   "outputs": [],
   "source": [
    "# scikit-learn, scikit-image are needed\n",
    "# If those packages are missed, then, install them by using the following command\n",
    "# pip install scikit-learn scikit-image\n",
    "\n",
    "import os\n",
    "\n",
    "import sklearn.datasets\n",
    "import sklearn.linear_model\n",
    "import sklearn.svm\n",
    "import sklearn.tree\n",
    "import sklearn.ensemble\n",
    "import sklearn.model_selection\n",
    "import sklearn.metrics\n",
    "\n",
    "import skimage.io\n",
    "import skimage.transform\n",
    "import skimage.color\n",
    "\n",
    "import numpy as np\n",
    "\n",
    "import matplotlib.pyplot as plt \n",
    "%matplotlib inline"
   ]
  },
  {
   "cell_type": "markdown",
   "id": "modern-columbia",
   "metadata": {},
   "source": [
    "# Load Additional Packages (if you want to use other modules in Scikit Learn)"
   ]
  },
  {
   "cell_type": "code",
   "execution_count": null,
   "id": "racial-growing",
   "metadata": {},
   "outputs": [],
   "source": [
    "# Load additional scikit learn packages! if you need\n",
    "from sklearn.datasets import fetch_openml\n",
    "from sklearn.model_selection import train_test_split\n",
    "from sklearn.neighbors import KNeighborsClassifier\n",
    "from sklearn import metrics\n",
    "from skimage.feature import hog\n",
    "from sklearn.preprocessing import StandardScaler"
   ]
  },
  {
   "cell_type": "markdown",
   "id": "immediate-briefs",
   "metadata": {},
   "source": [
    "# Load Data Points (Do not modify the following block)"
   ]
  },
  {
   "cell_type": "code",
   "execution_count": null,
   "id": "surgical-background",
   "metadata": {
    "scrolled": false
   },
   "outputs": [],
   "source": [
    "image_size = 64\n",
    "labels = ['glioma_tumor','meningioma_tumor','no_tumor','pituitary_tumor']\n",
    "\n",
    "images = []\n",
    "y = []\n",
    "for i in labels:\n",
    "    folderPath = os.path.join('./tumor_dataset/Training',i)\n",
    "    for j in os.listdir(folderPath):\n",
    "        img = skimage.io.imread(os.path.join(folderPath,j),)\n",
    "        img = skimage.transform.resize(img,(image_size,image_size))\n",
    "        img = skimage.color.rgb2gray(img)\n",
    "        images.append(img)\n",
    "        y.append(i)\n",
    "        \n",
    "images = np.array(images)\n",
    "\n",
    "X = images.reshape((-1, image_size**2))\n",
    "y = np.array(y)"
   ]
  },
  {
   "cell_type": "code",
   "execution_count": null,
   "id": "5ff63d2b",
   "metadata": {
    "scrolled": false
   },
   "outputs": [],
   "source": [
    "j = 0\n",
    "for i in range(len(y)):\n",
    "    if y[i] in labels[j]:\n",
    "        plt.imshow(images[i])\n",
    "        plt.title(\"[Index:{}] Label:{}\".format(i, y[i]))\n",
    "        plt.show()\n",
    "        j += 1\n",
    "    if j >= len(labels):\n",
    "        break"
   ]
  },
  {
   "cell_type": "code",
   "execution_count": null,
   "id": "cc23d262",
   "metadata": {},
   "outputs": [],
   "source": [
    "X_train, X_test, y_train, y_test = sklearn.model_selection.train_test_split(X, y, test_size=0.3, random_state=0)"
   ]
  },
  {
   "cell_type": "markdown",
   "id": "isolated-airfare",
   "metadata": {},
   "source": [
    "# Classification with Scikit Learn Library (Programming Assignment)\n",
    "### Variable Explanation (Do not change variable names)\n",
    "- 'X_train' is feature vectors of training dataset\n",
    "- 'y_train' is target labels of training dataset\n",
    "- 'X_test' is feature vectors of test dataset\n",
    "- 'y_test' is target labels of test dataset\n",
    "- 'y_pred' was initialized as zero vectors and fill 'y_pred' with predicted labels\n",
    "\n",
    "### Find the best model and hyperparameter for tumor classification\n",
    "- Find the best random seed as well and fix it to reproduce your result on other computers."
   ]
  },
  {
   "cell_type": "code",
   "execution_count": null,
   "id": "funded-playing",
   "metadata": {},
   "outputs": [],
   "source": [
    "#TODO\n",
    "#1. Create a classification object in scikit learn package (such as perceptron, logistic regression, or other classification algorithms)\n",
    "#2. Fit the object to training dataset\n",
    "#3. Predict the label of test data point (X_test)\n",
    "# - Do not change the variable name \"y_pred\"\n",
    "#이거 애초에 X가 1차원 벡터라 안되는거 같다!\n",
    "import random\n",
    "X_train, X_test, y_train, y_test = sklearn.model_selection.train_test_split(X, y, test_size=0.3, random_state=random.randint(1,100))\n",
    "X_train_re = X_train.reshape((-1, image_size,image_size))\n",
    "X_test_re = X_test.reshape((-1, image_size,image_size))\n",
    "\n",
    "hog_features = []\n",
    "for img in X_train_re:\n",
    "    features = hog(img,orientations=9  ,block_norm='L2-Hys',pixels_per_cell=(8, 8),cells_per_block=(8, 8) )\n",
    "    hog_features.append(features)\n",
    "X_hog = np.array(hog_features)\n",
    "\n",
    "# 데이터 스케일링 1\n",
    "scaler = StandardScaler()\n",
    "X_train_hog = scaler.fit_transform(X_hog)\n",
    "\n",
    "hog_features = []\n",
    "for img in X_test_re:\n",
    "    features = hog(img,orientations=9  ,block_norm='L2-Hys',pixels_per_cell=(8, 8),cells_per_block=(8, 8) )\n",
    "    hog_features.append(features)\n",
    "X_hog = np.array(hog_features)\n",
    "\n",
    "# 데이터 스케일링 2\n",
    "scaler = StandardScaler()\n",
    "X_test_hog = scaler.fit_transform(X_hog)\n",
    "\n",
    "\n",
    "# SVM 모델 초기화 및 학습\n",
    "rf = sklearn.ensemble.RandomForestClassifier(n_estimators= 10000)\n",
    "rf.fit(X_train,y_train)\n",
    "\n",
    "# 테스트 세트로 예측\n",
    "y_pred = rf.predict(X_test_hog)\n",
    "\n"
   ]
  },
  {
   "cell_type": "markdown",
   "id": "twenty-mistake",
   "metadata": {},
   "source": [
    "### Print accuracy (do not modify the following block)"
   ]
  },
  {
   "cell_type": "code",
   "execution_count": 57,
   "id": "alien-concert",
   "metadata": {
    "scrolled": true
   },
   "outputs": [
    {
     "name": "stdout",
     "output_type": "stream",
     "text": [
      "Accuracy: 0.91\n"
     ]
    }
   ],
   "source": [
    "print('Accuracy: %.2f' % sklearn.metrics.accuracy_score(y_test, y_pred))"
   ]
  },
  {
   "cell_type": "code",
   "execution_count": null,
   "id": "ae66e9f2",
   "metadata": {},
   "outputs": [],
   "source": []
  }
 ],
 "metadata": {
  "kernelspec": {
   "display_name": "Python 3 (ipykernel)",
   "language": "python",
   "name": "python3"
  },
  "language_info": {
   "codemirror_mode": {
    "name": "ipython",
    "version": 3
   },
   "file_extension": ".py",
   "mimetype": "text/x-python",
   "name": "python",
   "nbconvert_exporter": "python",
   "pygments_lexer": "ipython3",
   "version": "3.9.7"
  }
 },
 "nbformat": 4,
 "nbformat_minor": 5
}
